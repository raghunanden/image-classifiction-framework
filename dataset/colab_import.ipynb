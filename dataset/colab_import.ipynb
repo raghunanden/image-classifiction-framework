{
  "nbformat": 4,
  "nbformat_minor": 0,
  "metadata": {
    "colab": {
      "name": "colab_import.ipynb",
      "provenance": []
    },
    "kernelspec": {
      "name": "python3",
      "display_name": "Python 3"
    }
  },
  "cells": [
    {
      "cell_type": "code",
      "metadata": {
        "id": "B1li0Z7puWWA",
        "colab_type": "code",
        "colab": {}
      },
      "source": [
        "import pandas as pd\n",
        "import shutil\n",
        "from sklearn.model_selection import train_test_split\n",
        "import numpy as np\n",
        "import os"
      ],
      "execution_count": 0,
      "outputs": []
    },
    {
      "cell_type": "code",
      "metadata": {
        "id": "PnCwSwAI2Wxo",
        "colab_type": "code",
        "outputId": "a205cc63-31f7-4e5b-abfa-b390effaa492",
        "colab": {
          "base_uri": "https://localhost:8080/",
          "height": 119
        }
      },
      "source": [
        "! git clone https://github.com/raghunanden/image-classifiction-framework.git"
      ],
      "execution_count": 1,
      "outputs": [
        {
          "output_type": "stream",
          "text": [
            "Cloning into 'image-classifiction-framework'...\n",
            "remote: Enumerating objects: 22, done.\u001b[K\n",
            "remote: Counting objects:   4% (1/22)\u001b[K\rremote: Counting objects:   9% (2/22)\u001b[K\rremote: Counting objects:  13% (3/22)\u001b[K\rremote: Counting objects:  18% (4/22)\u001b[K\rremote: Counting objects:  22% (5/22)\u001b[K\rremote: Counting objects:  27% (6/22)\u001b[K\rremote: Counting objects:  31% (7/22)\u001b[K\rremote: Counting objects:  36% (8/22)\u001b[K\rremote: Counting objects:  40% (9/22)\u001b[K\rremote: Counting objects:  45% (10/22)\u001b[K\rremote: Counting objects:  50% (11/22)\u001b[K\rremote: Counting objects:  54% (12/22)\u001b[K\rremote: Counting objects:  59% (13/22)\u001b[K\rremote: Counting objects:  63% (14/22)\u001b[K\rremote: Counting objects:  68% (15/22)\u001b[K\rremote: Counting objects:  72% (16/22)\u001b[K\rremote: Counting objects:  77% (17/22)\u001b[K\rremote: Counting objects:  81% (18/22)\u001b[K\rremote: Counting objects:  86% (19/22)\u001b[K\rremote: Counting objects:  90% (20/22)\u001b[K\rremote: Counting objects:  95% (21/22)\u001b[K\rremote: Counting objects: 100% (22/22)\u001b[K\rremote: Counting objects: 100% (22/22), done.\u001b[K\n",
            "remote: Compressing objects:   5% (1/18)\u001b[K\rremote: Compressing objects:  11% (2/18)\u001b[K\rremote: Compressing objects:  16% (3/18)\u001b[K\rremote: Compressing objects:  22% (4/18)\u001b[K\rremote: Compressing objects:  27% (5/18)\u001b[K\rremote: Compressing objects:  33% (6/18)\u001b[K\rremote: Compressing objects:  38% (7/18)\u001b[K\rremote: Compressing objects:  44% (8/18)\u001b[K\rremote: Compressing objects:  50% (9/18)\u001b[K\rremote: Compressing objects:  55% (10/18)\u001b[K\rremote: Compressing objects:  61% (11/18)\u001b[K\rremote: Compressing objects:  66% (12/18)\u001b[K\rremote: Compressing objects:  72% (13/18)\u001b[K\rremote: Compressing objects:  77% (14/18)\u001b[K\rremote: Compressing objects:  83% (15/18)\u001b[K\rremote: Compressing objects:  88% (16/18)\u001b[K\rremote: Compressing objects:  94% (17/18)\u001b[K\rremote: Compressing objects: 100% (18/18)\u001b[K\rremote: Compressing objects: 100% (18/18), done.\u001b[K\n",
            "remote: Total 22 (delta 2), reused 22 (delta 2), pack-reused 0\u001b[K\n",
            "Unpacking objects:   4% (1/22)   \rUnpacking objects:   9% (2/22)   \rUnpacking objects:  13% (3/22)   \rUnpacking objects:  18% (4/22)   \rUnpacking objects:  22% (5/22)   \rUnpacking objects:  27% (6/22)   \rUnpacking objects:  31% (7/22)   \rUnpacking objects:  36% (8/22)   \rUnpacking objects:  40% (9/22)   \rUnpacking objects:  45% (10/22)   \rUnpacking objects:  50% (11/22)   \rUnpacking objects:  54% (12/22)   \rUnpacking objects:  59% (13/22)   \rUnpacking objects:  63% (14/22)   \rUnpacking objects:  68% (15/22)   \rUnpacking objects:  72% (16/22)   \rUnpacking objects:  77% (17/22)   \rUnpacking objects:  81% (18/22)   \rUnpacking objects:  86% (19/22)   \rUnpacking objects:  90% (20/22)   \rUnpacking objects:  95% (21/22)   \rUnpacking objects: 100% (22/22)   \rUnpacking objects: 100% (22/22), done.\n"
          ],
          "name": "stdout"
        }
      ]
    },
    {
      "cell_type": "code",
      "metadata": {
        "id": "XMQUKyUg3gpo",
        "colab_type": "code",
        "colab": {
          "base_uri": "https://localhost:8080/",
          "height": 136
        },
        "outputId": "27967170-a05c-4b7d-93ff-0b86ef1afeae"
      },
      "source": [
        "from google.colab import auth\n",
        "auth.authenticate_user()\n",
        "project_id = 'vocal-facet-272514'\n",
        "!gcloud config set project {project_id}\n",
        "!gsutil ls"
      ],
      "execution_count": 2,
      "outputs": [
        {
          "output_type": "stream",
          "text": [
            "Updated property [core/project].\n",
            "\n",
            "\n",
            "To take a quick anonymous survey, run:\n",
            "  $ gcloud survey\n",
            "\n",
            "gs://raghukaggledata/\n"
          ],
          "name": "stdout"
        }
      ]
    },
    {
      "cell_type": "code",
      "metadata": {
        "id": "CvpUwW7Ro2j5",
        "colab_type": "code",
        "colab": {
          "base_uri": "https://localhost:8080/",
          "height": 68
        },
        "outputId": "3669cd35-2e02-437a-bfee-13ee7781da03"
      },
      "source": [
        "bucket_name = 'raghukaggledata'\n",
        "!gsutil -m cp -r gs://{bucket_name}/aptos2019-blindness-detection.zip /content/image-classifiction-framework/dataset/"
      ],
      "execution_count": 3,
      "outputs": [
        {
          "output_type": "stream",
          "text": [
            "Copying gs://raghukaggledata/aptos2019-blindness-detection.zip...\n",
            "/ [1/1 files][  9.5 GiB/  9.5 GiB] 100% Done  53.8 MiB/s ETA 00:00:00           \n",
            "Operation completed over 1 objects/9.5 GiB.                                      \n"
          ],
          "name": "stdout"
        }
      ]
    },
    {
      "cell_type": "code",
      "metadata": {
        "id": "OnA8sMWpr8kv",
        "colab_type": "code",
        "colab": {}
      },
      "source": [
        "## read_data_csv\n",
        "## split it into train test and validation\n",
        "## organize the images accordingly\n",
        "## build input pipeline using tf.data"
      ],
      "execution_count": 0,
      "outputs": []
    },
    {
      "cell_type": "code",
      "metadata": {
        "id": "wEot02SjsqLp",
        "colab_type": "code",
        "colab": {}
      },
      "source": [
        "%%bash\n",
        "cd /content/image-classifiction-framework/dataset/\n",
        "unzip -qq aptos2019-blindness-detection.zip"
      ],
      "execution_count": 0,
      "outputs": []
    },
    {
      "cell_type": "code",
      "metadata": {
        "id": "gHuboTi1uD4l",
        "colab_type": "code",
        "colab": {}
      },
      "source": [
        "train_df = pd.read_csv(\"/content/image-classifiction-framework/dataset/train.csv\")"
      ],
      "execution_count": 0,
      "outputs": []
    },
    {
      "cell_type": "code",
      "metadata": {
        "id": "05j6d558wb09",
        "colab_type": "code",
        "colab": {
          "base_uri": "https://localhost:8080/",
          "height": 80
        },
        "outputId": "99fce926-41d5-4ab9-8a10-99eead07515b"
      },
      "source": [
        "train_df.head(1)"
      ],
      "execution_count": 29,
      "outputs": [
        {
          "output_type": "execute_result",
          "data": {
            "text/html": [
              "<div>\n",
              "<style scoped>\n",
              "    .dataframe tbody tr th:only-of-type {\n",
              "        vertical-align: middle;\n",
              "    }\n",
              "\n",
              "    .dataframe tbody tr th {\n",
              "        vertical-align: top;\n",
              "    }\n",
              "\n",
              "    .dataframe thead th {\n",
              "        text-align: right;\n",
              "    }\n",
              "</style>\n",
              "<table border=\"1\" class=\"dataframe\">\n",
              "  <thead>\n",
              "    <tr style=\"text-align: right;\">\n",
              "      <th></th>\n",
              "      <th>id_code</th>\n",
              "      <th>diagnosis</th>\n",
              "    </tr>\n",
              "  </thead>\n",
              "  <tbody>\n",
              "    <tr>\n",
              "      <th>0</th>\n",
              "      <td>000c1434d8d7</td>\n",
              "      <td>2</td>\n",
              "    </tr>\n",
              "  </tbody>\n",
              "</table>\n",
              "</div>"
            ],
            "text/plain": [
              "        id_code  diagnosis\n",
              "0  000c1434d8d7          2"
            ]
          },
          "metadata": {
            "tags": []
          },
          "execution_count": 29
        }
      ]
    },
    {
      "cell_type": "code",
      "metadata": {
        "id": "GvhnzEvlvcGd",
        "colab_type": "code",
        "colab": {}
      },
      "source": [
        "X_train, X_eval, y_train, y_eval = train_test_split(\n",
        "    train_df[\"id_code\"], train_df[\"diagnosis\"], test_size=0.25, random_state=42)\n",
        "train = pd.DataFrame()\n",
        "train[\"id_code\"] = X_train\n",
        "train[\"diagnosis\"] = y_train\n",
        "validation = pd.DataFrame()\n",
        "validation[\"id_code\"] = X_eval\n",
        "validation[\"diagnosis\"] = y_eval"
      ],
      "execution_count": 0,
      "outputs": []
    },
    {
      "cell_type": "code",
      "metadata": {
        "id": "EWyJNpreu8ly",
        "colab_type": "code",
        "colab": {}
      },
      "source": [
        "def move_file(file_name, folder=None):\n",
        "  # Source path\n",
        "\n",
        "  source = '/content/image-classifiction-framework/dataset/train_images/{}.png'.format(file_name)\n",
        "    \n",
        "  # Destination path  \n",
        "  destination = '/content/image-classifiction-framework/dataset/{}/{}.png'.format(folder,file_name)\n",
        "    \n",
        "  # Move the content of  \n",
        "  # source to destination  \n",
        "  dest = shutil.move(source, destination)  "
      ],
      "execution_count": 0,
      "outputs": []
    },
    {
      "cell_type": "code",
      "metadata": {
        "id": "0R-vfa0euPu2",
        "colab_type": "code",
        "colab": {
          "base_uri": "https://localhost:8080/",
          "height": 221
        },
        "outputId": "9362bb35-94c7-462d-ca26-95b87fef83f9"
      },
      "source": [
        "if not os.path.exists('/content/image-classifiction-framework/dataset/train'):\n",
        "    os.makedirs('/content/image-classifiction-framework/dataset/train')\n",
        "if not os.path.exists('/content/image-classifiction-framework/dataset/validation'):\n",
        "    os.makedirs('/content/image-classifiction-framework/dataset/validation')\n",
        "train[\"id_code\"].apply(lambda x: move_file(x, folder='train'))\n",
        "validation[\"id_code\"].apply(lambda x: move_file(x, folder='validation'))"
      ],
      "execution_count": 39,
      "outputs": [
        {
          "output_type": "execute_result",
          "data": {
            "text/plain": [
              "2059    None\n",
              "1105    None\n",
              "818     None\n",
              "1237    None\n",
              "463     None\n",
              "        ... \n",
              "1075    None\n",
              "1108    None\n",
              "2877    None\n",
              "1798    None\n",
              "2177    None\n",
              "Name: id_code, Length: 916, dtype: object"
            ]
          },
          "metadata": {
            "tags": []
          },
          "execution_count": 39
        }
      ]
    }
  ]
}