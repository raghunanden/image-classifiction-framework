{
  "nbformat": 4,
  "nbformat_minor": 0,
  "metadata": {
    "colab": {
      "name": "colab_import.ipynb",
      "provenance": []
    },
    "kernelspec": {
      "name": "python3",
      "display_name": "Python 3"
    }
  },
  "cells": [
    {
      "cell_type": "code",
      "metadata": {
        "id": "PnCwSwAI2Wxo",
        "colab_type": "code",
        "colab": {
          "base_uri": "https://localhost:8080/",
          "height": 119
        },
        "outputId": "f0ca66ab-192c-4be1-b629-05d3b17eb059"
      },
      "source": [
        "! git clone https://github.com/raghunanden/image-classifiction-framework.git"
      ],
      "execution_count": 1,
      "outputs": [
        {
          "output_type": "stream",
          "text": [
            "Cloning into 'image-classifiction-framework'...\n",
            "remote: Enumerating objects: 11, done.\u001b[K\n",
            "remote: Counting objects:   9% (1/11)\u001b[K\rremote: Counting objects:  18% (2/11)\u001b[K\rremote: Counting objects:  27% (3/11)\u001b[K\rremote: Counting objects:  36% (4/11)\u001b[K\rremote: Counting objects:  45% (5/11)\u001b[K\rremote: Counting objects:  54% (6/11)\u001b[K\rremote: Counting objects:  63% (7/11)\u001b[K\rremote: Counting objects:  72% (8/11)\u001b[K\rremote: Counting objects:  81% (9/11)\u001b[K\rremote: Counting objects:  90% (10/11)\u001b[K\rremote: Counting objects: 100% (11/11)\u001b[K\rremote: Counting objects: 100% (11/11), done.\u001b[K\n",
            "remote: Compressing objects:  11% (1/9)\u001b[K\rremote: Compressing objects:  22% (2/9)\u001b[K\rremote: Compressing objects:  33% (3/9)\u001b[K\rremote: Compressing objects:  44% (4/9)\u001b[K\rremote: Compressing objects:  55% (5/9)\u001b[K\rremote: Compressing objects:  66% (6/9)\u001b[K\rremote: Compressing objects:  77% (7/9)\u001b[K\rremote: Compressing objects:  88% (8/9)\u001b[K\rremote: Compressing objects: 100% (9/9)\u001b[K\rremote: Compressing objects: 100% (9/9), done.\u001b[K\n",
            "remote: Total 11 (delta 0), reused 11 (delta 0), pack-reused 0\u001b[K\n",
            "Unpacking objects:   9% (1/11)   \rUnpacking objects:  18% (2/11)   \rUnpacking objects:  27% (3/11)   \rUnpacking objects:  36% (4/11)   \rUnpacking objects:  45% (5/11)   \rUnpacking objects:  54% (6/11)   \rUnpacking objects:  63% (7/11)   \rUnpacking objects:  72% (8/11)   \rUnpacking objects:  81% (9/11)   \rUnpacking objects:  90% (10/11)   \rUnpacking objects: 100% (11/11)   \rUnpacking objects: 100% (11/11), done.\n"
          ],
          "name": "stdout"
        }
      ]
    },
    {
      "cell_type": "code",
      "metadata": {
        "id": "Jhgdhzkz3FQl",
        "colab_type": "code",
        "colab": {}
      },
      "source": [
        "! pip install -q kaggle"
      ],
      "execution_count": 0,
      "outputs": []
    },
    {
      "cell_type": "code",
      "metadata": {
        "id": "XMQUKyUg3gpo",
        "colab_type": "code",
        "colab": {}
      },
      "source": [
        "! mkdir ~/.kaggle"
      ],
      "execution_count": 0,
      "outputs": []
    },
    {
      "cell_type": "code",
      "metadata": {
        "id": "L1q5kq8t3p8o",
        "colab_type": "code",
        "colab": {}
      },
      "source": [
        "! cp /kaggle.json ~/.kaggle/"
      ],
      "execution_count": 0,
      "outputs": []
    },
    {
      "cell_type": "code",
      "metadata": {
        "id": "FOMUZD893us9",
        "colab_type": "code",
        "colab": {}
      },
      "source": [
        "! chmod 600 ~/.kaggle/kaggle.json"
      ],
      "execution_count": 0,
      "outputs": []
    },
    {
      "cell_type": "code",
      "metadata": {
        "id": "YQX1bQvs4HwV",
        "colab_type": "code",
        "colab": {
          "base_uri": "https://localhost:8080/",
          "height": 428
        },
        "outputId": "75b75ed0-01e9-410e-f978-fea7bf9a02dc"
      },
      "source": [
        "! kaggle datasets list"
      ],
      "execution_count": 10,
      "outputs": [
        {
          "output_type": "stream",
          "text": [
            "Warning: Looks like you're using an outdated API Version, please consider updating (server 1.5.6 / client 1.5.4)\n",
            "ref                                                            title                                                size  lastUpdated          downloadCount  \n",
            "-------------------------------------------------------------  --------------------------------------------------  -----  -------------------  -------------  \n",
            "unanimad/dataisbeautiful                                       Reddit - Data is Beautiful                           11MB  2020-03-21 22:28:28           1077  \n",
            "allen-institute-for-ai/CORD-19-research-challenge              COVID-19 Open Research Dataset Challenge (CORD-19)  646MB  2020-03-20 23:31:34          32659  \n",
            "rubenssjr/brasilian-houses-to-rent                             brazilian_houses_to_rent                            282KB  2020-03-25 22:51:17           1016  \n",
            "charlieharper/spatial-data-for-cord19-covid19-ordc             Spatial Data for CORD-19 (COVID-19 ORDC)            136MB  2020-03-24 20:17:09             75  \n",
            "clmentbisaillon/fake-and-real-news-dataset                     Fake and real news dataset                           41MB  2020-03-26 18:51:15             77  \n",
            "paultimothymooney/covid19-containment-and-mitigation-measures  COVID-19 containment and mitigation measures         91KB  2020-03-27 13:52:04            236  \n",
            "skylord/coronawhy                                              CoronaWhy                                           572MB  2020-03-27 07:38:59             17  \n",
            "sudalairajkumar/novel-corona-virus-2019-dataset                Novel Corona Virus 2019 Dataset                     390KB  2020-03-27 04:56:38          87204  \n",
            "kimjihoo/coronavirusdataset                                    Data Science for COVID-19 (DS4C)                      3MB  2020-03-22 04:17:54          21640  \n",
            "jessemostipak/hotel-booking-demand                             Hotel booking demand                                  1MB  2020-02-13 01:27:20          10958  \n",
            "shivamb/real-or-fake-fake-jobposting-prediction                [Real or Fake] Fake JobPosting Prediction            16MB  2020-02-29 08:23:34           2269  \n",
            "brunotly/foreign-exchange-rates-per-dollar-20002019            Foreign Exchange Rates 2000-2019                      1MB  2020-03-03 17:43:07           1821  \n",
            "timoboz/data-science-cheat-sheets                              Data Science Cheat Sheets                           596MB  2020-02-04 19:42:27           6795  \n",
            "imdevskp/sars-outbreak-2003-complete-dataset                   SARS 2003 Outbreak Complete Dataset                  10KB  2020-02-26 10:25:22           2247  \n",
            "imdevskp/ebola-outbreak-20142016-complete-dataset              Ebola 2014-2016 Outbreak Complete Dataset           101KB  2020-02-26 14:36:31           2067  \n",
            "tunguz/big-five-personality-test                               Big Five Personality Test                           159MB  2020-02-17 15:59:37           3332  \n",
            "paultimothymooney/coronavirus-genome-sequence                  Coronavirus Genome Sequence                           9MB  2020-02-29 00:25:13            675  \n",
            "arindam235/startup-investments-crunchbase                      StartUp Investments (Crunchbase)                      3MB  2020-02-17 21:54:42           2321  \n",
            "timoboz/tesla-stock-data-from-2010-to-2020                     Tesla stock data from 2010 to 2020                   46KB  2020-02-04 17:15:32           3190  \n",
            "timoboz/python-data-science-handbook                           Python Data Science Handbook                         15MB  2020-02-04 18:27:14           1556  \n"
          ],
          "name": "stdout"
        }
      ]
    },
    {
      "cell_type": "code",
      "metadata": {
        "id": "4uQNdF3k5IUI",
        "colab_type": "code",
        "colab": {
          "base_uri": "https://localhost:8080/",
          "height": 1000
        },
        "outputId": "be08246f-ef60-41d3-ce93-778a78dc2105"
      },
      "source": [
        "! kaggle competitions download -c aptos2019-blindness-detection"
      ],
      "execution_count": 11,
      "outputs": [
        {
          "output_type": "stream",
          "text": [
            "Warning: Looks like you're using an outdated API Version, please consider updating (server 1.5.6 / client 1.5.4)\n",
            "Downloading 010d915e229a.png.zip to /content\n",
            "  0% 0.00/2.14M [00:00<?, ?B/s]\n",
            "100% 2.14M/2.14M [00:00<00:00, 71.4MB/s]\n",
            "Downloading 024d0a225db1.png to /content\n",
            "  0% 0.00/209k [00:00<?, ?B/s]\n",
            "100% 209k/209k [00:00<00:00, 62.1MB/s]\n",
            "Downloading 020921b796d5.png to /content\n",
            "  0% 0.00/226k [00:00<?, ?B/s]\n",
            "100% 226k/226k [00:00<00:00, 68.8MB/s]\n",
            "Downloading 01c31b10ab99.png.zip to /content\n",
            "  0% 0.00/2.08M [00:00<?, ?B/s]\n",
            "100% 2.08M/2.08M [00:00<00:00, 117MB/s]\n",
            "Downloading 0005cfc8afb6.png to /content\n",
            "  0% 0.00/230k [00:00<?, ?B/s]\n",
            "100% 230k/230k [00:00<00:00, 71.8MB/s]\n",
            "Downloading 009245722fa4.png to /content\n",
            "  0% 0.00/241k [00:00<?, ?B/s]\n",
            "100% 241k/241k [00:00<00:00, 15.6MB/s]\n",
            "Downloading 006efc72b638.png to /content\n",
            "  0% 0.00/198k [00:00<?, ?B/s]\n",
            "100% 198k/198k [00:00<00:00, 62.0MB/s]\n",
            "Downloading 01e4d86b3a30.png to /content\n",
            "  0% 0.00/232k [00:00<?, ?B/s]\n",
            "100% 232k/232k [00:00<00:00, 73.2MB/s]\n",
            "Downloading 0268f4382c67.png to /content\n",
            "  0% 0.00/223k [00:00<?, ?B/s]\n",
            "100% 223k/223k [00:00<00:00, 98.2MB/s]\n",
            "Downloading 0299d97f31f7.png to /content\n",
            "  0% 0.00/982k [00:00<?, ?B/s]\n",
            "100% 982k/982k [00:00<00:00, 126MB/s]\n",
            "Downloading 021c207614d6.png.zip to /content\n",
            "100% 5.00M/5.01M [00:00<00:00, 35.3MB/s]\n",
            "100% 5.01M/5.01M [00:00<00:00, 31.7MB/s]\n",
            "Downloading 020f6983114d.png.zip to /content\n",
            "  0% 0.00/2.00M [00:00<?, ?B/s]\n",
            "100% 2.00M/2.00M [00:00<00:00, 120MB/s]\n",
            "Downloading 003f0afdcd15.png to /content\n",
            "  0% 0.00/207k [00:00<?, ?B/s]\n",
            "100% 207k/207k [00:00<00:00, 163MB/s]\n",
            "Downloading 01499815e469.png to /content\n",
            "  0% 0.00/224k [00:00<?, ?B/s]\n",
            "100% 224k/224k [00:00<00:00, 215MB/s]\n",
            "Downloading 00836aaacf06.png to /content\n",
            "  0% 0.00/229k [00:00<?, ?B/s]\n",
            "100% 229k/229k [00:00<00:00, 226MB/s]\n",
            "Downloading 0229c0a80d42.png to /content\n",
            "  0% 0.00/219k [00:00<?, ?B/s]\n",
            "100% 219k/219k [00:00<00:00, 209MB/s]\n",
            "Downloading 0111b949947e.png to /content\n",
            "  0% 0.00/926k [00:00<?, ?B/s]\n",
            "100% 926k/926k [00:00<00:00, 130MB/s]\n",
            "Downloading 01c5ba195207.png to /content\n",
            "  0% 0.00/207k [00:00<?, ?B/s]\n",
            "100% 207k/207k [00:00<00:00, 200MB/s]\n",
            "Downloading 009c019a7309.png to /content\n",
            "  0% 0.00/221k [00:00<?, ?B/s]\n",
            "100% 221k/221k [00:00<00:00, 223MB/s]\n",
            "Downloading 0167076e7089.png to /content\n",
            "  0% 0.00/222k [00:00<?, ?B/s]\n",
            "100% 222k/222k [00:00<00:00, 225MB/s]\n",
            "Downloading 012a242ac6ff.png.zip to /content\n",
            "  0% 0.00/5.86M [00:00<?, ?B/s]\n",
            "100% 5.86M/5.86M [00:00<00:00, 53.9MB/s]\n",
            "Downloading 0083ee8054ee.png.zip to /content\n",
            " 71% 5.00M/7.06M [00:00<00:00, 52.3MB/s]\n",
            "100% 7.06M/7.06M [00:00<00:00, 65.1MB/s]\n",
            "Downloading 0097f532ac9f.png.zip to /content\n",
            "  0% 0.00/4.98M [00:00<?, ?B/s]\n",
            "100% 4.98M/4.98M [00:00<00:00, 45.8MB/s]\n",
            "Downloading 005b95c28852.png.zip to /content\n",
            "  0% 0.00/1.73M [00:00<?, ?B/s]\n",
            "100% 1.73M/1.73M [00:00<00:00, 225MB/s]\n",
            "Downloading 00e4ddff966a.png.zip to /content\n",
            "  0% 0.00/2.13M [00:00<?, ?B/s]\n",
            "100% 2.13M/2.13M [00:00<00:00, 143MB/s]\n",
            "Downloading 014508ccb9cb.png to /content\n",
            "  0% 0.00/363k [00:00<?, ?B/s]\n",
            "100% 363k/363k [00:00<00:00, 117MB/s]\n",
            "Downloading 001639a390f0.png.zip to /content\n",
            "  0% 0.00/2.16M [00:00<?, ?B/s]\n",
            "100% 2.16M/2.16M [00:00<00:00, 145MB/s]\n",
            "Downloading 0124dffecf29.png.zip to /content\n",
            "  0% 0.00/3.28M [00:00<?, ?B/s]\n",
            "100% 3.28M/3.28M [00:00<00:00, 109MB/s]\n",
            "Downloading 00cc2b75cddd.png to /content\n",
            "  0% 0.00/880k [00:00<?, ?B/s]\n",
            "100% 880k/880k [00:00<00:00, 197MB/s]\n",
            "Downloading 00b74780d31d.png.zip to /content\n",
            "100% 4.83M/4.83M [00:00<00:00, 34.4MB/s]\n",
            "\n",
            "Downloading 0104b032c141.png.zip to /content\n",
            "  0% 0.00/2.33M [00:00<?, ?B/s]\n",
            "100% 2.33M/2.33M [00:00<00:00, 149MB/s]\n",
            "Downloading 00f6c1be5a33.png to /content\n",
            "  0% 0.00/920k [00:00<?, ?B/s]\n",
            "100% 920k/920k [00:00<00:00, 126MB/s]\n",
            "Downloading 0125fbd2e791.png to /content\n",
            "  0% 0.00/881k [00:00<?, ?B/s]\n",
            "100% 881k/881k [00:00<00:00, 121MB/s]\n",
            "Downloading 0161338f53cc.png.zip to /content\n",
            "  0% 0.00/1.31M [00:00<?, ?B/s]\n",
            "100% 1.31M/1.31M [00:00<00:00, 183MB/s]\n",
            "Downloading 00a8624548a9.png.zip to /content\n",
            "  0% 0.00/2.40M [00:00<?, ?B/s]\n",
            "100% 2.40M/2.40M [00:00<00:00, 161MB/s]\n",
            "Downloading 00cb6555d108.png.zip to /content\n",
            "  0% 0.00/1.93M [00:00<?, ?B/s]\n",
            "100% 1.93M/1.93M [00:00<00:00, 127MB/s]\n",
            "Downloading 0151781fe50b.png.zip to /content\n",
            "  0% 0.00/1.80M [00:00<?, ?B/s]\n",
            "100% 1.80M/1.80M [00:00<00:00, 113MB/s]\n",
            "Downloading 002c21358ce6.png to /content\n",
            "  0% 0.00/952k [00:00<?, ?B/s]\n",
            "100% 952k/952k [00:00<00:00, 125MB/s]\n",
            "Downloading 000c1434d8d7.png.zip to /content\n",
            "  0% 0.00/3.07M [00:00<?, ?B/s]\n",
            "100% 3.07M/3.07M [00:00<00:00, 205MB/s]\n",
            "Downloading 0024cdab0c1e.png.zip to /content\n",
            "  0% 0.00/1.80M [00:00<?, ?B/s]\n",
            "100% 1.80M/1.80M [00:00<00:00, 121MB/s]\n",
            "Downloading train.csv to /content\n",
            "  0% 0.00/53.7k [00:00<?, ?B/s]\n",
            "100% 53.7k/53.7k [00:00<00:00, 50.3MB/s]\n",
            "Downloading test.csv to /content\n",
            "  0% 0.00/24.5k [00:00<?, ?B/s]\n",
            "100% 24.5k/24.5k [00:00<00:00, 23.8MB/s]\n",
            "Downloading sample_submission.csv to /content\n",
            "  0% 0.00/28.3k [00:00<?, ?B/s]\n",
            "100% 28.3k/28.3k [00:00<00:00, 23.9MB/s]\n"
          ],
          "name": "stdout"
        }
      ]
    },
    {
      "cell_type": "code",
      "metadata": {
        "id": "RCdX1pvE5fLA",
        "colab_type": "code",
        "colab": {
          "base_uri": "https://localhost:8080/",
          "height": 34
        },
        "outputId": "f73b3fcf-d6ef-47f3-ad65-28d23eb1ef23"
      },
      "source": [
        "%%bash\n",
        "cd image-classification-framework\n",
        "mkdir data"
      ],
      "execution_count": 15,
      "outputs": [
        {
          "output_type": "stream",
          "text": [
            "bash: line 1: cd: image-classification-framework: No such file or directory\n"
          ],
          "name": "stderr"
        }
      ]
    },
    {
      "cell_type": "code",
      "metadata": {
        "id": "bCKkaB2E6SXa",
        "colab_type": "code",
        "colab": {
          "base_uri": "https://localhost:8080/",
          "height": 901
        },
        "outputId": "95082748-1a86-4714-e609-3052b3433cc3"
      },
      "source": [
        "%%bash\n",
        "ls -la"
      ],
      "execution_count": 23,
      "outputs": [
        {
          "output_type": "stream",
          "text": [
            "total 68500\n",
            "drwxr-xr-x 1 root root    4096 Mar 27 16:52 .\n",
            "drwxr-xr-x 1 root root    4096 Mar 27 16:40 ..\n",
            "-rw-r--r-- 1 root root  236005 Mar 27 16:48 0005cfc8afb6.png\n",
            "-rw-r--r-- 1 root root 3218772 Mar 27 16:49 000c1434d8d7.png.zip\n",
            "-rw-r--r-- 1 root root 2261276 Mar 27 16:48 001639a390f0.png.zip\n",
            "-rw-r--r-- 1 root root 1882800 Mar 27 16:49 0024cdab0c1e.png.zip\n",
            "-rw-r--r-- 1 root root  975218 Mar 27 16:49 002c21358ce6.png\n",
            "-rw-r--r-- 1 root root  212295 Mar 27 16:48 003f0afdcd15.png\n",
            "-rw-r--r-- 1 root root 1810972 Mar 27 16:48 005b95c28852.png.zip\n",
            "-rw-r--r-- 1 root root  202491 Mar 27 16:48 006efc72b638.png\n",
            "-rw-r--r-- 1 root root  234517 Mar 27 16:48 00836aaacf06.png\n",
            "-rw-r--r-- 1 root root 7403631 Mar 27 16:48 0083ee8054ee.png.zip\n",
            "-rw-r--r-- 1 root root  246856 Mar 27 16:48 009245722fa4.png\n",
            "-rw-r--r-- 1 root root 5225140 Mar 27 16:48 0097f532ac9f.png.zip\n",
            "-rw-r--r-- 1 root root  226380 Mar 27 16:48 009c019a7309.png\n",
            "-rw-r--r-- 1 root root 2515681 Mar 27 16:48 00a8624548a9.png.zip\n",
            "-rw-r--r-- 1 root root 5066162 Mar 27 16:48 00b74780d31d.png.zip\n",
            "-rw-r--r-- 1 root root 2022398 Mar 27 16:48 00cb6555d108.png.zip\n",
            "-rw-r--r-- 1 root root  901092 Mar 27 16:48 00cc2b75cddd.png\n",
            "-rw-r--r-- 1 root root 2236440 Mar 27 16:48 00e4ddff966a.png.zip\n",
            "-rw-r--r-- 1 root root  941750 Mar 27 16:48 00f6c1be5a33.png\n",
            "-rw-r--r-- 1 root root 2441707 Mar 27 16:48 0104b032c141.png.zip\n",
            "-rw-r--r-- 1 root root 2241635 Mar 27 16:48 010d915e229a.png.zip\n",
            "-rw-r--r-- 1 root root  948707 Mar 27 16:48 0111b949947e.png\n",
            "-rw-r--r-- 1 root root 3438249 Mar 27 16:48 0124dffecf29.png.zip\n",
            "-rw-r--r-- 1 root root  902442 Mar 27 16:48 0125fbd2e791.png\n",
            "-rw-r--r-- 1 root root 6142708 Mar 27 16:48 012a242ac6ff.png.zip\n",
            "-rw-r--r-- 1 root root  371967 Mar 27 16:48 014508ccb9cb.png\n",
            "-rw-r--r-- 1 root root  229826 Mar 27 16:48 01499815e469.png\n",
            "-rw-r--r-- 1 root root 1892613 Mar 27 16:48 0151781fe50b.png.zip\n",
            "-rw-r--r-- 1 root root 1373368 Mar 27 16:48 0161338f53cc.png.zip\n",
            "-rw-r--r-- 1 root root  227529 Mar 27 16:48 0167076e7089.png\n",
            "-rw-r--r-- 1 root root 2178746 Mar 27 16:48 01c31b10ab99.png.zip\n",
            "-rw-r--r-- 1 root root  211770 Mar 27 16:48 01c5ba195207.png\n",
            "-rw-r--r-- 1 root root  237448 Mar 27 16:48 01e4d86b3a30.png\n",
            "-rw-r--r-- 1 root root  231150 Mar 27 16:48 020921b796d5.png\n",
            "-rw-r--r-- 1 root root 2091931 Mar 27 16:48 020f6983114d.png.zip\n",
            "-rw-r--r-- 1 root root 5257468 Mar 27 16:48 021c207614d6.png.zip\n",
            "-rw-r--r-- 1 root root  224328 Mar 27 16:48 0229c0a80d42.png\n",
            "-rw-r--r-- 1 root root  214028 Mar 27 16:48 024d0a225db1.png\n",
            "-rw-r--r-- 1 root root  228079 Mar 27 16:48 0268f4382c67.png\n",
            "-rw-r--r-- 1 root root 1005239 Mar 27 16:48 0299d97f31f7.png\n",
            "drwxr-xr-x 2 root root    4096 Mar 27 16:51 classification\n",
            "drwxr-xr-x 1 root root    4096 Mar 25 16:11 .config\n",
            "drwxr-xr-x 2 root root    4096 Mar 27 16:52 data\n",
            "drwxr-xr-x 2 root root    4096 Mar 27 16:51 image\n",
            "drwxr-xr-x 5 root root    4096 Mar 27 16:37 image-classifiction-framework\n",
            "drwxr-xr-x 1 root root    4096 Mar 18 16:23 sample_data\n",
            "-rw-r--r-- 1 root root   28938 Mar 27 16:49 sample_submission.csv\n",
            "-rw-r--r-- 1 root root   25072 Mar 27 16:49 test.csv\n",
            "-rw-r--r-- 1 root root   54948 Mar 27 16:49 train.csv\n"
          ],
          "name": "stdout"
        }
      ]
    }
  ]
}